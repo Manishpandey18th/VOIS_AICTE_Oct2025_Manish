{
 "cells": [
  {
   "cell_type": "markdown",
   "id": "6c0557f8",
   "metadata": {},
   "source": [
    "<h1 align =\"center\">Airbnb Hotel Booking Analysis </h1>"
   ]
  },
  {
   "cell_type": "markdown",
   "id": "30bc8a57",
   "metadata": {},
   "source": [
    "Data Wrangling"
   ]
  },
  {
   "cell_type": "code",
   "execution_count": 1,
   "id": "0b8331ea",
   "metadata": {},
   "outputs": [],
   "source": [
    "import numpy as np\n",
    "import pandas as pd\n",
    "import matplotlib.pyplot as plt\n",
    "import seaborn as sns\n",
    "import plotly.express as px"
   ]
  },
  {
   "cell_type": "markdown",
   "id": "bf5f56c2",
   "metadata": {},
   "source": [
    "Access the Data"
   ]
  },
  {
   "cell_type": "code",
   "execution_count": 2,
   "id": "4db8fc04",
   "metadata": {},
   "outputs": [],
   "source": [
    "# Read the Airbnb dataset\n",
    "df = pd.read_csv('Dataset/Airbnb_Open_Data.csv',low_memory=False)\n"
   ]
  },
  {
   "cell_type": "code",
   "execution_count": 3,
   "id": "650c2f93",
   "metadata": {},
   "outputs": [
    {
     "data": {
      "text/html": [
       "<div>\n",
       "<style scoped>\n",
       "    .dataframe tbody tr th:only-of-type {\n",
       "        vertical-align: middle;\n",
       "    }\n",
       "\n",
       "    .dataframe tbody tr th {\n",
       "        vertical-align: top;\n",
       "    }\n",
       "\n",
       "    .dataframe thead th {\n",
       "        text-align: right;\n",
       "    }\n",
       "</style>\n",
       "<table border=\"1\" class=\"dataframe\">\n",
       "  <thead>\n",
       "    <tr style=\"text-align: right;\">\n",
       "      <th></th>\n",
       "      <th>id</th>\n",
       "      <th>NAME</th>\n",
       "      <th>host id</th>\n",
       "      <th>host_identity_verified</th>\n",
       "      <th>host name</th>\n",
       "      <th>neighbourhood group</th>\n",
       "      <th>neighbourhood</th>\n",
       "      <th>lat</th>\n",
       "      <th>long</th>\n",
       "      <th>country</th>\n",
       "      <th>...</th>\n",
       "      <th>service fee</th>\n",
       "      <th>minimum nights</th>\n",
       "      <th>number of reviews</th>\n",
       "      <th>last review</th>\n",
       "      <th>reviews per month</th>\n",
       "      <th>review rate number</th>\n",
       "      <th>calculated host listings count</th>\n",
       "      <th>availability 365</th>\n",
       "      <th>house_rules</th>\n",
       "      <th>license</th>\n",
       "    </tr>\n",
       "  </thead>\n",
       "  <tbody>\n",
       "    <tr>\n",
       "      <th>0</th>\n",
       "      <td>1001254</td>\n",
       "      <td>Clean &amp; quiet apt home by the park</td>\n",
       "      <td>80014485718</td>\n",
       "      <td>unconfirmed</td>\n",
       "      <td>Madaline</td>\n",
       "      <td>Brooklyn</td>\n",
       "      <td>Kensington</td>\n",
       "      <td>40.64749</td>\n",
       "      <td>-73.97237</td>\n",
       "      <td>United States</td>\n",
       "      <td>...</td>\n",
       "      <td>$193</td>\n",
       "      <td>10.0</td>\n",
       "      <td>9.0</td>\n",
       "      <td>10/19/2021</td>\n",
       "      <td>0.21</td>\n",
       "      <td>4.0</td>\n",
       "      <td>6.0</td>\n",
       "      <td>286.0</td>\n",
       "      <td>Clean up and treat the home the way you'd like...</td>\n",
       "      <td>NaN</td>\n",
       "    </tr>\n",
       "    <tr>\n",
       "      <th>1</th>\n",
       "      <td>1002102</td>\n",
       "      <td>Skylit Midtown Castle</td>\n",
       "      <td>52335172823</td>\n",
       "      <td>verified</td>\n",
       "      <td>Jenna</td>\n",
       "      <td>Manhattan</td>\n",
       "      <td>Midtown</td>\n",
       "      <td>40.75362</td>\n",
       "      <td>-73.98377</td>\n",
       "      <td>United States</td>\n",
       "      <td>...</td>\n",
       "      <td>$28</td>\n",
       "      <td>30.0</td>\n",
       "      <td>45.0</td>\n",
       "      <td>5/21/2022</td>\n",
       "      <td>0.38</td>\n",
       "      <td>4.0</td>\n",
       "      <td>2.0</td>\n",
       "      <td>228.0</td>\n",
       "      <td>Pet friendly but please confirm with me if the...</td>\n",
       "      <td>NaN</td>\n",
       "    </tr>\n",
       "    <tr>\n",
       "      <th>2</th>\n",
       "      <td>1002403</td>\n",
       "      <td>THE VILLAGE OF HARLEM....NEW YORK !</td>\n",
       "      <td>78829239556</td>\n",
       "      <td>NaN</td>\n",
       "      <td>Elise</td>\n",
       "      <td>Manhattan</td>\n",
       "      <td>Harlem</td>\n",
       "      <td>40.80902</td>\n",
       "      <td>-73.94190</td>\n",
       "      <td>United States</td>\n",
       "      <td>...</td>\n",
       "      <td>$124</td>\n",
       "      <td>3.0</td>\n",
       "      <td>0.0</td>\n",
       "      <td>NaN</td>\n",
       "      <td>NaN</td>\n",
       "      <td>5.0</td>\n",
       "      <td>1.0</td>\n",
       "      <td>352.0</td>\n",
       "      <td>I encourage you to use my kitchen, cooking and...</td>\n",
       "      <td>NaN</td>\n",
       "    </tr>\n",
       "    <tr>\n",
       "      <th>3</th>\n",
       "      <td>1002755</td>\n",
       "      <td>NaN</td>\n",
       "      <td>85098326012</td>\n",
       "      <td>unconfirmed</td>\n",
       "      <td>Garry</td>\n",
       "      <td>Brooklyn</td>\n",
       "      <td>Clinton Hill</td>\n",
       "      <td>40.68514</td>\n",
       "      <td>-73.95976</td>\n",
       "      <td>United States</td>\n",
       "      <td>...</td>\n",
       "      <td>$74</td>\n",
       "      <td>30.0</td>\n",
       "      <td>270.0</td>\n",
       "      <td>7/5/2019</td>\n",
       "      <td>4.64</td>\n",
       "      <td>4.0</td>\n",
       "      <td>1.0</td>\n",
       "      <td>322.0</td>\n",
       "      <td>NaN</td>\n",
       "      <td>NaN</td>\n",
       "    </tr>\n",
       "    <tr>\n",
       "      <th>4</th>\n",
       "      <td>1003689</td>\n",
       "      <td>Entire Apt: Spacious Studio/Loft by central park</td>\n",
       "      <td>92037596077</td>\n",
       "      <td>verified</td>\n",
       "      <td>Lyndon</td>\n",
       "      <td>Manhattan</td>\n",
       "      <td>East Harlem</td>\n",
       "      <td>40.79851</td>\n",
       "      <td>-73.94399</td>\n",
       "      <td>United States</td>\n",
       "      <td>...</td>\n",
       "      <td>$41</td>\n",
       "      <td>10.0</td>\n",
       "      <td>9.0</td>\n",
       "      <td>11/19/2018</td>\n",
       "      <td>0.10</td>\n",
       "      <td>3.0</td>\n",
       "      <td>1.0</td>\n",
       "      <td>289.0</td>\n",
       "      <td>Please no smoking in the house, porch or on th...</td>\n",
       "      <td>NaN</td>\n",
       "    </tr>\n",
       "  </tbody>\n",
       "</table>\n",
       "<p>5 rows × 26 columns</p>\n",
       "</div>"
      ],
      "text/plain": [
       "        id                                              NAME      host id  \\\n",
       "0  1001254                Clean & quiet apt home by the park  80014485718   \n",
       "1  1002102                             Skylit Midtown Castle  52335172823   \n",
       "2  1002403               THE VILLAGE OF HARLEM....NEW YORK !  78829239556   \n",
       "3  1002755                                               NaN  85098326012   \n",
       "4  1003689  Entire Apt: Spacious Studio/Loft by central park  92037596077   \n",
       "\n",
       "  host_identity_verified host name neighbourhood group neighbourhood  \\\n",
       "0            unconfirmed  Madaline            Brooklyn    Kensington   \n",
       "1               verified     Jenna           Manhattan       Midtown   \n",
       "2                    NaN     Elise           Manhattan        Harlem   \n",
       "3            unconfirmed     Garry            Brooklyn  Clinton Hill   \n",
       "4               verified    Lyndon           Manhattan   East Harlem   \n",
       "\n",
       "        lat      long        country  ... service fee minimum nights  \\\n",
       "0  40.64749 -73.97237  United States  ...       $193            10.0   \n",
       "1  40.75362 -73.98377  United States  ...        $28            30.0   \n",
       "2  40.80902 -73.94190  United States  ...       $124             3.0   \n",
       "3  40.68514 -73.95976  United States  ...        $74            30.0   \n",
       "4  40.79851 -73.94399  United States  ...        $41            10.0   \n",
       "\n",
       "  number of reviews last review  reviews per month review rate number  \\\n",
       "0               9.0  10/19/2021               0.21                4.0   \n",
       "1              45.0   5/21/2022               0.38                4.0   \n",
       "2               0.0         NaN                NaN                5.0   \n",
       "3             270.0    7/5/2019               4.64                4.0   \n",
       "4               9.0  11/19/2018               0.10                3.0   \n",
       "\n",
       "  calculated host listings count  availability 365  \\\n",
       "0                            6.0             286.0   \n",
       "1                            2.0             228.0   \n",
       "2                            1.0             352.0   \n",
       "3                            1.0             322.0   \n",
       "4                            1.0             289.0   \n",
       "\n",
       "                                         house_rules license  \n",
       "0  Clean up and treat the home the way you'd like...     NaN  \n",
       "1  Pet friendly but please confirm with me if the...     NaN  \n",
       "2  I encourage you to use my kitchen, cooking and...     NaN  \n",
       "3                                                NaN     NaN  \n",
       "4  Please no smoking in the house, porch or on th...     NaN  \n",
       "\n",
       "[5 rows x 26 columns]"
      ]
     },
     "execution_count": 3,
     "metadata": {},
     "output_type": "execute_result"
    }
   ],
   "source": [
    "#Display the top 5 records\n",
    "df.head()"
   ]
  },
  {
   "cell_type": "code",
   "execution_count": 4,
   "id": "be997c55",
   "metadata": {},
   "outputs": [
    {
     "name": "stdout",
     "output_type": "stream",
     "text": [
      "<class 'pandas.core.frame.DataFrame'>\n",
      "RangeIndex: 102599 entries, 0 to 102598\n",
      "Data columns (total 26 columns):\n",
      " #   Column                          Non-Null Count   Dtype  \n",
      "---  ------                          --------------   -----  \n",
      " 0   id                              102599 non-null  int64  \n",
      " 1   NAME                            102349 non-null  object \n",
      " 2   host id                         102599 non-null  int64  \n",
      " 3   host_identity_verified          102310 non-null  object \n",
      " 4   host name                       102193 non-null  object \n",
      " 5   neighbourhood group             102570 non-null  object \n",
      " 6   neighbourhood                   102583 non-null  object \n",
      " 7   lat                             102591 non-null  float64\n",
      " 8   long                            102591 non-null  float64\n",
      " 9   country                         102067 non-null  object \n",
      " 10  country code                    102468 non-null  object \n",
      " 11  instant_bookable                102494 non-null  object \n",
      " 12  cancellation_policy             102523 non-null  object \n",
      " 13  room type                       102599 non-null  object \n",
      " 14  Construction year               102385 non-null  float64\n",
      " 15  price                           102352 non-null  object \n",
      " 16  service fee                     102326 non-null  object \n",
      " 17  minimum nights                  102190 non-null  float64\n",
      " 18  number of reviews               102416 non-null  float64\n",
      " 19  last review                     86706 non-null   object \n",
      " 20  reviews per month               86720 non-null   float64\n",
      " 21  review rate number              102273 non-null  float64\n",
      " 22  calculated host listings count  102280 non-null  float64\n",
      " 23  availability 365                102151 non-null  float64\n",
      " 24  house_rules                     50468 non-null   object \n",
      " 25  license                         2 non-null       object \n",
      "dtypes: float64(9), int64(2), object(15)\n",
      "memory usage: 20.4+ MB\n"
     ]
    }
   ],
   "source": [
    "#Check the info about the dataset\n",
    "df.info()"
   ]
  },
  {
   "cell_type": "code",
   "execution_count": 5,
   "id": "03ac9648",
   "metadata": {},
   "outputs": [
    {
     "data": {
      "text/plain": [
       "False    102058\n",
       "True        541\n",
       "Name: count, dtype: int64"
      ]
     },
     "execution_count": 5,
     "metadata": {},
     "output_type": "execute_result"
    }
   ],
   "source": [
    "#check the duplicate the value and count it.\n",
    "df.duplicated().value_counts()"
   ]
  },
  {
   "cell_type": "markdown",
   "id": "8da3bfb6",
   "metadata": {},
   "source": [
    "Filter the Data\n"
   ]
  },
  {
   "cell_type": "code",
   "execution_count": 6,
   "id": "6a5eb15a",
   "metadata": {},
   "outputs": [
    {
     "data": {
      "text/html": [
       "<div>\n",
       "<style scoped>\n",
       "    .dataframe tbody tr th:only-of-type {\n",
       "        vertical-align: middle;\n",
       "    }\n",
       "\n",
       "    .dataframe tbody tr th {\n",
       "        vertical-align: top;\n",
       "    }\n",
       "\n",
       "    .dataframe thead th {\n",
       "        text-align: right;\n",
       "    }\n",
       "</style>\n",
       "<table border=\"1\" class=\"dataframe\">\n",
       "  <thead>\n",
       "    <tr style=\"text-align: right;\">\n",
       "      <th></th>\n",
       "      <th>id</th>\n",
       "      <th>NAME</th>\n",
       "      <th>host id</th>\n",
       "      <th>host_identity_verified</th>\n",
       "      <th>host name</th>\n",
       "      <th>neighbourhood group</th>\n",
       "      <th>neighbourhood</th>\n",
       "      <th>lat</th>\n",
       "      <th>long</th>\n",
       "      <th>country</th>\n",
       "      <th>...</th>\n",
       "      <th>service fee</th>\n",
       "      <th>minimum nights</th>\n",
       "      <th>number of reviews</th>\n",
       "      <th>last review</th>\n",
       "      <th>reviews per month</th>\n",
       "      <th>review rate number</th>\n",
       "      <th>calculated host listings count</th>\n",
       "      <th>availability 365</th>\n",
       "      <th>house_rules</th>\n",
       "      <th>license</th>\n",
       "    </tr>\n",
       "  </thead>\n",
       "  <tbody>\n",
       "    <tr>\n",
       "      <th>13</th>\n",
       "      <td>1008516</td>\n",
       "      <td>Lovely Room 1, Garden, Best Area, Legal rental</td>\n",
       "      <td>26802410424</td>\n",
       "      <td>verified</td>\n",
       "      <td>Darcy</td>\n",
       "      <td>brookln</td>\n",
       "      <td>South Slope</td>\n",
       "      <td>40.66829</td>\n",
       "      <td>-73.98779</td>\n",
       "      <td>United States</td>\n",
       "      <td>...</td>\n",
       "      <td>$116</td>\n",
       "      <td>4.0</td>\n",
       "      <td>167.0</td>\n",
       "      <td>6/24/2019</td>\n",
       "      <td>1.34</td>\n",
       "      <td>4.0</td>\n",
       "      <td>3.0</td>\n",
       "      <td>47.0</td>\n",
       "      <td>NaN</td>\n",
       "      <td>NaN</td>\n",
       "    </tr>\n",
       "  </tbody>\n",
       "</table>\n",
       "<p>1 rows × 26 columns</p>\n",
       "</div>"
      ],
      "text/plain": [
       "         id                                            NAME      host id  \\\n",
       "13  1008516  Lovely Room 1, Garden, Best Area, Legal rental  26802410424   \n",
       "\n",
       "   host_identity_verified host name neighbourhood group neighbourhood  \\\n",
       "13               verified     Darcy             brookln   South Slope   \n",
       "\n",
       "         lat      long        country  ... service fee minimum nights  \\\n",
       "13  40.66829 -73.98779  United States  ...       $116             4.0   \n",
       "\n",
       "   number of reviews last review  reviews per month review rate number  \\\n",
       "13             167.0   6/24/2019               1.34                4.0   \n",
       "\n",
       "   calculated host listings count  availability 365  house_rules license  \n",
       "13                            3.0              47.0          NaN     NaN  \n",
       "\n",
       "[1 rows x 26 columns]"
      ]
     },
     "execution_count": 6,
     "metadata": {},
     "output_type": "execute_result"
    }
   ],
   "source": [
    "# Neighbourhood group was 'Brookln' insted of 'Brooklyn'\n",
    "df[df['neighbourhood group'] == 'brookln']"
   ]
  },
  {
   "cell_type": "markdown",
   "id": "204069c4",
   "metadata": {},
   "source": [
    "Problem Identified within the Dataset"
   ]
  },
  {
   "cell_type": "markdown",
   "id": "d63958fe",
   "metadata": {},
   "source": [
    "1. 541 duplicated records where found in the data.\n",
    "2. Insufficient info were recorded for the house_rules and Licence columns.\n",
    "3. Dollar signs and commas recorded along with the values for price and service fee.\n",
    "4. The Currency for price and service fee were not added to the columns titles.\n",
    "5. Missing values in some records.\n",
    "6. Columns like the price ,service fee,id,host id,last review,Construction year are assigned wrong datatypes.\n",
    "7. In the neighbourhood group column the spelling of 'Brooklyn' was misspelt in some records.\n",
    "8. Some Outliers were identified in the availability 365 column."
   ]
  },
  {
   "cell_type": "markdown",
   "id": "e4c394bd",
   "metadata": {},
   "source": [
    "Clean the Data"
   ]
  },
  {
   "cell_type": "markdown",
   "id": "6f219555",
   "metadata": {},
   "source": [
    "Steps to be Taken for Data Cleaning"
   ]
  },
  {
   "cell_type": "markdown",
   "id": "c1fd7206",
   "metadata": {},
   "source": [
    "1. Drop duplicated records.\n",
    "2. Drop house_rules and license columns with insufficient data.\n",
    "3. Remove all dollar signs in the price and service fee columns.\n",
    "4. Remove all commas from the price and service fee columns.\n",
    "5. Rename the price and service fee columns to include a dollar signs.\n",
    "6. Drop all records with missing values.\n",
    "7. Change all mismatched data types to the appropriate once.\n",
    "8. Correct the spelling of 'brookln' to 'Brooklyn'.\n",
    "9. Get rid of outliers in the availabilty 365 column data."
   ]
  },
  {
   "cell_type": "code",
   "execution_count": 7,
   "id": "1922bb8d",
   "metadata": {},
   "outputs": [],
   "source": [
    "#Drop duplicate records\n",
    "df.drop_duplicates(inplace =True)\n",
    "\n",
    "\n",
    "# drop house_rules and license columns with insufficient data\n",
    "df.drop(['house_rules','license'], axis = 1 ,inplace=True,errors='ignore')\n",
    "\n",
    "# Remove all dollar signs in the price and service fee columns\n",
    "df['price'] = df['price'].str.replace('$','',regex=False)\n",
    "df['service fee'] = df['service fee'].str.replace('$','',regex=False)\n",
    "\n",
    "\n",
    "#Remove all commas in the price and service fee columns\n",
    "df['price'] = df['price'].str.replace(',','',regex=False)\n",
    "df['service fee'] = df['service fee'].str.replace(',',' ',regex=False)\n",
    "\n",
    "\n",
    "# Rename the price and service fee columns to include a dollar sign\n",
    "df.rename(columns= {\n",
    "    'price':'price_$',\n",
    "    'service fee':'service_fee_$'\n",
    "} ,inplace=True)\n",
    "\n",
    "# drop all records with missing values\n",
    "df.dropna(inplace=True)\n",
    "\n",
    "#Change all mismatched data types to the appropriate once.\n",
    "df['price_$'] = df['price_$'].astype(float)\n",
    "df['service_fee_$'] = df['service_fee_$'].astype(float)\n",
    "df['id'] = df['id'].astype(str)\n",
    "df['host id'] = df['host id'].astype(str)\n",
    "df['last review'] = pd.to_datetime(df['last review'])\n",
    "df['Construction year'] = df['Construction year'].astype(int)\n",
    "\n",
    "# Correct the spelling of 'brookln' to 'Brooklyn'\n",
    "df.loc[df['neighbourhood group'] == 'brookln','neighbourhood group'] = 'Brooklyn'\n",
    "\n",
    "#Get rid of outlier in the 'availability 365' column data\n",
    "df = df.drop(df[df['availability 365'] > 500].index)\n",
    "\n"
   ]
  },
  {
   "cell_type": "code",
   "execution_count": 8,
   "id": "df181bf9",
   "metadata": {},
   "outputs": [
    {
     "data": {
      "text/plain": [
       "False    83411\n",
       "Name: count, dtype: int64"
      ]
     },
     "execution_count": 8,
     "metadata": {},
     "output_type": "execute_result"
    }
   ],
   "source": [
    "df.duplicated().value_counts()"
   ]
  },
  {
   "cell_type": "code",
   "execution_count": 9,
   "id": "28ce08bc",
   "metadata": {},
   "outputs": [
    {
     "name": "stdout",
     "output_type": "stream",
     "text": [
      "<class 'pandas.core.frame.DataFrame'>\n",
      "Index: 83411 entries, 0 to 102040\n",
      "Data columns (total 24 columns):\n",
      " #   Column                          Non-Null Count  Dtype         \n",
      "---  ------                          --------------  -----         \n",
      " 0   id                              83411 non-null  object        \n",
      " 1   NAME                            83411 non-null  object        \n",
      " 2   host id                         83411 non-null  object        \n",
      " 3   host_identity_verified          83411 non-null  object        \n",
      " 4   host name                       83411 non-null  object        \n",
      " 5   neighbourhood group             83411 non-null  object        \n",
      " 6   neighbourhood                   83411 non-null  object        \n",
      " 7   lat                             83411 non-null  float64       \n",
      " 8   long                            83411 non-null  float64       \n",
      " 9   country                         83411 non-null  object        \n",
      " 10  country code                    83411 non-null  object        \n",
      " 11  instant_bookable                83411 non-null  object        \n",
      " 12  cancellation_policy             83411 non-null  object        \n",
      " 13  room type                       83411 non-null  object        \n",
      " 14  Construction year               83411 non-null  int64         \n",
      " 15  price_$                         83411 non-null  float64       \n",
      " 16  service_fee_$                   83411 non-null  float64       \n",
      " 17  minimum nights                  83411 non-null  float64       \n",
      " 18  number of reviews               83411 non-null  float64       \n",
      " 19  last review                     83411 non-null  datetime64[ns]\n",
      " 20  reviews per month               83411 non-null  float64       \n",
      " 21  review rate number              83411 non-null  float64       \n",
      " 22  calculated host listings count  83411 non-null  float64       \n",
      " 23  availability 365                83411 non-null  float64       \n",
      "dtypes: datetime64[ns](1), float64(10), int64(1), object(12)\n",
      "memory usage: 15.9+ MB\n"
     ]
    }
   ],
   "source": [
    "df.info()"
   ]
  },
  {
   "cell_type": "markdown",
   "id": "3c324aa1",
   "metadata": {},
   "source": [
    "Exploratory Data Analysis (EDA)"
   ]
  },
  {
   "cell_type": "markdown",
   "id": "f1c29f89",
   "metadata": {},
   "source": [
    "Summary Statistics"
   ]
  },
  {
   "cell_type": "code",
   "execution_count": 10,
   "id": "bdce93e1",
   "metadata": {},
   "outputs": [
    {
     "data": {
      "text/html": [
       "<div>\n",
       "<style scoped>\n",
       "    .dataframe tbody tr th:only-of-type {\n",
       "        vertical-align: middle;\n",
       "    }\n",
       "\n",
       "    .dataframe tbody tr th {\n",
       "        vertical-align: top;\n",
       "    }\n",
       "\n",
       "    .dataframe thead th {\n",
       "        text-align: right;\n",
       "    }\n",
       "</style>\n",
       "<table border=\"1\" class=\"dataframe\">\n",
       "  <thead>\n",
       "    <tr style=\"text-align: right;\">\n",
       "      <th></th>\n",
       "      <th>lat</th>\n",
       "      <th>long</th>\n",
       "      <th>Construction year</th>\n",
       "      <th>price_$</th>\n",
       "      <th>service_fee_$</th>\n",
       "      <th>minimum nights</th>\n",
       "      <th>number of reviews</th>\n",
       "      <th>last review</th>\n",
       "      <th>reviews per month</th>\n",
       "      <th>review rate number</th>\n",
       "      <th>calculated host listings count</th>\n",
       "      <th>availability 365</th>\n",
       "    </tr>\n",
       "  </thead>\n",
       "  <tbody>\n",
       "    <tr>\n",
       "      <th>count</th>\n",
       "      <td>83411.000000</td>\n",
       "      <td>83411.000000</td>\n",
       "      <td>83411.000000</td>\n",
       "      <td>83411.000000</td>\n",
       "      <td>83411.000000</td>\n",
       "      <td>83411.000000</td>\n",
       "      <td>83411.000000</td>\n",
       "      <td>83411</td>\n",
       "      <td>83411.000000</td>\n",
       "      <td>83411.000000</td>\n",
       "      <td>83411.000000</td>\n",
       "      <td>83411.000000</td>\n",
       "    </tr>\n",
       "    <tr>\n",
       "      <th>mean</th>\n",
       "      <td>40.727353</td>\n",
       "      <td>-73.948500</td>\n",
       "      <td>2012.488509</td>\n",
       "      <td>626.212730</td>\n",
       "      <td>125.243709</td>\n",
       "      <td>7.405366</td>\n",
       "      <td>32.276642</td>\n",
       "      <td>2019-06-08 22:01:01.027922176</td>\n",
       "      <td>1.377584</td>\n",
       "      <td>3.278776</td>\n",
       "      <td>7.032682</td>\n",
       "      <td>141.742612</td>\n",
       "    </tr>\n",
       "    <tr>\n",
       "      <th>min</th>\n",
       "      <td>40.504560</td>\n",
       "      <td>-74.249840</td>\n",
       "      <td>2003.000000</td>\n",
       "      <td>50.000000</td>\n",
       "      <td>10.000000</td>\n",
       "      <td>-365.000000</td>\n",
       "      <td>1.000000</td>\n",
       "      <td>2012-07-11 00:00:00</td>\n",
       "      <td>0.010000</td>\n",
       "      <td>1.000000</td>\n",
       "      <td>1.000000</td>\n",
       "      <td>-10.000000</td>\n",
       "    </tr>\n",
       "    <tr>\n",
       "      <th>25%</th>\n",
       "      <td>40.687650</td>\n",
       "      <td>-73.982110</td>\n",
       "      <td>2007.000000</td>\n",
       "      <td>340.000000</td>\n",
       "      <td>68.000000</td>\n",
       "      <td>2.000000</td>\n",
       "      <td>3.000000</td>\n",
       "      <td>2018-10-26 00:00:00</td>\n",
       "      <td>0.220000</td>\n",
       "      <td>2.000000</td>\n",
       "      <td>1.000000</td>\n",
       "      <td>6.000000</td>\n",
       "    </tr>\n",
       "    <tr>\n",
       "      <th>50%</th>\n",
       "      <td>40.721320</td>\n",
       "      <td>-73.953720</td>\n",
       "      <td>2012.000000</td>\n",
       "      <td>625.000000</td>\n",
       "      <td>125.000000</td>\n",
       "      <td>3.000000</td>\n",
       "      <td>11.000000</td>\n",
       "      <td>2019-06-13 00:00:00</td>\n",
       "      <td>0.740000</td>\n",
       "      <td>3.000000</td>\n",
       "      <td>1.000000</td>\n",
       "      <td>101.000000</td>\n",
       "    </tr>\n",
       "    <tr>\n",
       "      <th>75%</th>\n",
       "      <td>40.762595</td>\n",
       "      <td>-73.930815</td>\n",
       "      <td>2017.000000</td>\n",
       "      <td>914.000000</td>\n",
       "      <td>183.000000</td>\n",
       "      <td>5.000000</td>\n",
       "      <td>38.000000</td>\n",
       "      <td>2019-07-05 00:00:00</td>\n",
       "      <td>2.010000</td>\n",
       "      <td>4.000000</td>\n",
       "      <td>2.000000</td>\n",
       "      <td>266.000000</td>\n",
       "    </tr>\n",
       "    <tr>\n",
       "      <th>max</th>\n",
       "      <td>40.916970</td>\n",
       "      <td>-73.705220</td>\n",
       "      <td>2022.000000</td>\n",
       "      <td>1200.000000</td>\n",
       "      <td>240.000000</td>\n",
       "      <td>5645.000000</td>\n",
       "      <td>1024.000000</td>\n",
       "      <td>2022-05-21 00:00:00</td>\n",
       "      <td>90.000000</td>\n",
       "      <td>5.000000</td>\n",
       "      <td>332.000000</td>\n",
       "      <td>426.000000</td>\n",
       "    </tr>\n",
       "    <tr>\n",
       "      <th>std</th>\n",
       "      <td>0.056324</td>\n",
       "      <td>0.050347</td>\n",
       "      <td>5.760870</td>\n",
       "      <td>331.787179</td>\n",
       "      <td>66.360979</td>\n",
       "      <td>28.102221</td>\n",
       "      <td>51.957777</td>\n",
       "      <td>NaN</td>\n",
       "      <td>1.751041</td>\n",
       "      <td>1.283599</td>\n",
       "      <td>29.551590</td>\n",
       "      <td>133.368399</td>\n",
       "    </tr>\n",
       "  </tbody>\n",
       "</table>\n",
       "</div>"
      ],
      "text/plain": [
       "                lat          long  Construction year       price_$  \\\n",
       "count  83411.000000  83411.000000       83411.000000  83411.000000   \n",
       "mean      40.727353    -73.948500        2012.488509    626.212730   \n",
       "min       40.504560    -74.249840        2003.000000     50.000000   \n",
       "25%       40.687650    -73.982110        2007.000000    340.000000   \n",
       "50%       40.721320    -73.953720        2012.000000    625.000000   \n",
       "75%       40.762595    -73.930815        2017.000000    914.000000   \n",
       "max       40.916970    -73.705220        2022.000000   1200.000000   \n",
       "std        0.056324      0.050347           5.760870    331.787179   \n",
       "\n",
       "       service_fee_$  minimum nights  number of reviews  \\\n",
       "count   83411.000000    83411.000000       83411.000000   \n",
       "mean      125.243709        7.405366          32.276642   \n",
       "min        10.000000     -365.000000           1.000000   \n",
       "25%        68.000000        2.000000           3.000000   \n",
       "50%       125.000000        3.000000          11.000000   \n",
       "75%       183.000000        5.000000          38.000000   \n",
       "max       240.000000     5645.000000        1024.000000   \n",
       "std        66.360979       28.102221          51.957777   \n",
       "\n",
       "                         last review  reviews per month  review rate number  \\\n",
       "count                          83411       83411.000000        83411.000000   \n",
       "mean   2019-06-08 22:01:01.027922176           1.377584            3.278776   \n",
       "min              2012-07-11 00:00:00           0.010000            1.000000   \n",
       "25%              2018-10-26 00:00:00           0.220000            2.000000   \n",
       "50%              2019-06-13 00:00:00           0.740000            3.000000   \n",
       "75%              2019-07-05 00:00:00           2.010000            4.000000   \n",
       "max              2022-05-21 00:00:00          90.000000            5.000000   \n",
       "std                              NaN           1.751041            1.283599   \n",
       "\n",
       "       calculated host listings count  availability 365  \n",
       "count                    83411.000000      83411.000000  \n",
       "mean                         7.032682        141.742612  \n",
       "min                          1.000000        -10.000000  \n",
       "25%                          1.000000          6.000000  \n",
       "50%                          1.000000        101.000000  \n",
       "75%                          2.000000        266.000000  \n",
       "max                        332.000000        426.000000  \n",
       "std                         29.551590        133.368399  "
      ]
     },
     "execution_count": 10,
     "metadata": {},
     "output_type": "execute_result"
    }
   ],
   "source": [
    "df.describe()"
   ]
  },
  {
   "cell_type": "markdown",
   "id": "5db628cc",
   "metadata": {},
   "source": [
    "What are the different property types in the Dataset?"
   ]
  },
  {
   "cell_type": "code",
   "execution_count": 11,
   "id": "376d9cb9",
   "metadata": {},
   "outputs": [
    {
     "data": {
      "text/html": [
       "<div>\n",
       "<style scoped>\n",
       "    .dataframe tbody tr th:only-of-type {\n",
       "        vertical-align: middle;\n",
       "    }\n",
       "\n",
       "    .dataframe tbody tr th {\n",
       "        vertical-align: top;\n",
       "    }\n",
       "\n",
       "    .dataframe thead th {\n",
       "        text-align: right;\n",
       "    }\n",
       "</style>\n",
       "<table border=\"1\" class=\"dataframe\">\n",
       "  <thead>\n",
       "    <tr style=\"text-align: right;\">\n",
       "      <th></th>\n",
       "      <th>count</th>\n",
       "    </tr>\n",
       "    <tr>\n",
       "      <th>room type</th>\n",
       "      <th></th>\n",
       "    </tr>\n",
       "  </thead>\n",
       "  <tbody>\n",
       "    <tr>\n",
       "      <th>Entire home/apt</th>\n",
       "      <td>44163</td>\n",
       "    </tr>\n",
       "    <tr>\n",
       "      <th>Private room</th>\n",
       "      <td>37494</td>\n",
       "    </tr>\n",
       "    <tr>\n",
       "      <th>Shared room</th>\n",
       "      <td>1646</td>\n",
       "    </tr>\n",
       "    <tr>\n",
       "      <th>Hotel room</th>\n",
       "      <td>108</td>\n",
       "    </tr>\n",
       "  </tbody>\n",
       "</table>\n",
       "</div>"
      ],
      "text/plain": [
       "                 count\n",
       "room type             \n",
       "Entire home/apt  44163\n",
       "Private room     37494\n",
       "Shared room       1646\n",
       "Hotel room         108"
      ]
     },
     "execution_count": 11,
     "metadata": {},
     "output_type": "execute_result"
    }
   ],
   "source": [
    "#What are the different property types in the Dataset?\n",
    "property_types = df['room type'].value_counts().to_frame()\n",
    "property_types"
   ]
  },
  {
   "cell_type": "code",
   "execution_count": 12,
   "id": "2f1db770",
   "metadata": {},
   "outputs": [
    {
     "data": {
      "image/png": "[encoded data removed]",
      "text/plain": [
       "<Figure size 640x480 with 1 Axes>"
      ]
     },
     "metadata": {},
     "output_type": "display_data"
    }
   ],
   "source": [
    "#Room type count plotted on a barchart\n",
    "room_type_bar = plt.bar(property_types.index,property_types.loc[:,'count']);\n",
    "plt.bar_label(room_type_bar,labels = property_types.loc[:,'count'],padding=4);\n",
    "plt.ylim([0,50000]);\n",
    "plt.xlabel('Room Type')\n",
    "plt.ylabel('Room Type Count')\n",
    "plt.title('Property Types and their count in the Dataset');"
   ]
  },
  {
   "cell_type": "markdown",
   "id": "7c4f9ce1",
   "metadata": {},
   "source": [
    "The Airbnb open dataset reveals 4 distinct property or room types. These categories comprise;\n",
    "1. Entire home/apt - 44163\n",
    "2. Private room - 37494\n",
    "3. Shared room - 1646\n",
    "4. Hotel room - 108"
   ]
  },
  {
   "cell_type": "markdown",
   "id": "b8add64b",
   "metadata": {},
   "source": [
    "Which neighborhood group has the highest number of listings?"
   ]
  },
  {
   "cell_type": "code",
   "execution_count": 13,
   "id": "778f9fcd",
   "metadata": {},
   "outputs": [
    {
     "data": {
      "text/html": [
       "<div>\n",
       "<style scoped>\n",
       "    .dataframe tbody tr th:only-of-type {\n",
       "        vertical-align: middle;\n",
       "    }\n",
       "\n",
       "    .dataframe tbody tr th {\n",
       "        vertical-align: top;\n",
       "    }\n",
       "\n",
       "    .dataframe thead th {\n",
       "        text-align: right;\n",
       "    }\n",
       "</style>\n",
       "<table border=\"1\" class=\"dataframe\">\n",
       "  <thead>\n",
       "    <tr style=\"text-align: right;\">\n",
       "      <th></th>\n",
       "      <th>count</th>\n",
       "    </tr>\n",
       "    <tr>\n",
       "      <th>neighbourhood group</th>\n",
       "      <th></th>\n",
       "    </tr>\n",
       "  </thead>\n",
       "  <tbody>\n",
       "    <tr>\n",
       "      <th>Brooklyn</th>\n",
       "      <td>34636</td>\n",
       "    </tr>\n",
       "    <tr>\n",
       "      <th>Manhattan</th>\n",
       "      <td>34566</td>\n",
       "    </tr>\n",
       "    <tr>\n",
       "      <th>Queens</th>\n",
       "      <td>11126</td>\n",
       "    </tr>\n",
       "    <tr>\n",
       "      <th>Bronx</th>\n",
       "      <td>2267</td>\n",
       "    </tr>\n",
       "    <tr>\n",
       "      <th>Staten Island</th>\n",
       "      <td>816</td>\n",
       "    </tr>\n",
       "  </tbody>\n",
       "</table>\n",
       "</div>"
      ],
      "text/plain": [
       "                     count\n",
       "neighbourhood group       \n",
       "Brooklyn             34636\n",
       "Manhattan            34566\n",
       "Queens               11126\n",
       "Bronx                 2267\n",
       "Staten Island          816"
      ]
     },
     "execution_count": 13,
     "metadata": {},
     "output_type": "execute_result"
    }
   ],
   "source": [
    "hood_groups = df['neighbourhood group'].value_counts().to_frame()\n",
    "hood_groups "
   ]
  },
  {
   "cell_type": "code",
   "execution_count": 14,
   "id": "e54ee9d0",
   "metadata": {},
   "outputs": [
    {
     "data": {
      "text/plain": [
       "Text(0.5, 1.0, 'Which Neighbourhood group has the highest no of listings')"
      ]
     },
     "execution_count": 14,
     "metadata": {},
     "output_type": "execute_result"
    },
    {
     "data": {
      "image/png": "[encoded data removed]",
      "text/plain": [
       "<Figure size 640x480 with 1 Axes>"
      ]
     },
     "metadata": {},
     "output_type": "display_data"
    }
   ],
   "source": [
    "# which neighbourhood group has the highest no of  listing?\n",
    "hood_groups_bar = plt.bar(hood_groups.index,hood_groups.loc[:,'count']);\n",
    "plt.bar_label(hood_groups_bar,labels= hood_groups.loc[:,'count'],padding = 4)\n",
    "plt.ylim([0,40000]);\n",
    "plt.xlabel('Neigbourhood Groups');\n",
    "plt.ylabel('Number of Listings');\n",
    "plt.xticks(rotation=45)\n",
    "plt.title('Which Neighbourhood group has the highest no of listings')"
   ]
  },
  {
   "cell_type": "markdown",
   "id": "30f4afe2",
   "metadata": {},
   "source": [
    "Dataset contain 5 different neighbourhood groups namely - \n",
    "1. Brooklyn\n",
    "2. Manhattan\n",
    "3. Queens\n",
    "4. Bronx\n",
    "5. Staten island"
   ]
  },
  {
   "cell_type": "markdown",
   "id": "65a9649e",
   "metadata": {},
   "source": [
    "Which neighbourhood group have the highest average prices for Airbnb listings?"
   ]
  },
  {
   "cell_type": "code",
   "execution_count": 15,
   "id": "d9e12ad2",
   "metadata": {},
   "outputs": [
    {
     "data": {
      "image/png": "[encoded data removed]",
      "text/plain": [
       "<Figure size 640x480 with 1 Axes>"
      ]
     },
     "metadata": {},
     "output_type": "display_data"
    }
   ],
   "source": [
    "avg_price = df.groupby('neighbourhood group')['price_$'].mean().sort_values(ascending = False).to_frame()\n",
    "avg_price_bar = plt.bar(avg_price.index , avg_price.loc[:,'price_$']);\n",
    "plt.bar_label(avg_price_bar,labels= round(avg_price.loc[:,'price_$'],2),label_type = 'edge',padding=4)\n",
    "plt.ylim([0,700]);\n",
    "plt.xlabel('Neighbour Group');\n",
    "plt.ylabel('Average price per Listings($)');\n",
    "plt.xticks(rotation=45);\n",
    "plt.title('Average price per listings($) in each Neighbourhood Group');\n"
   ]
  },
  {
   "cell_type": "markdown",
   "id": "7d7f3dc8",
   "metadata": {},
   "source": [
    "Is there a relationship between the construction year of property and price ?"
   ]
  },
  {
   "cell_type": "code",
   "execution_count": 16,
   "id": "3ee722cb",
   "metadata": {},
   "outputs": [
    {
     "data": {
      "image/png": "[encoded data removed]",
      "text/plain": [
       "<Figure size 640x480 with 1 Axes>"
      ]
     },
     "metadata": {},
     "output_type": "display_data"
    }
   ],
   "source": [
    "df.groupby(df['Construction year'])['price_$'].mean().to_frame().plot();\n",
    "plt.xlabel('Construction Year');\n",
    "plt.ylabel('Average Price($)');\n",
    "plt.title('Average Price($) for properities in each Construction Year');"
   ]
  },
  {
   "cell_type": "markdown",
   "id": "4491c7c8",
   "metadata": {},
   "source": [
    "Who are the Top 10 hosts by calculated host listing count?"
   ]
  },
  {
   "cell_type": "markdown",
   "id": "105bc640",
   "metadata": {},
   "source": [
    "10 hosts with the highest calculated host counts"
   ]
  },
  {
   "cell_type": "code",
   "execution_count": null,
   "id": "97ebed06",
   "metadata": {},
   "outputs": [
    {
     "ename": "AttributeError",
     "evalue": "Rectangle.set() got an unexpected keyword argument 'palette'",
     "output_type": "error",
     "traceback": [
      "\u001b[1;31m---------------------------------------------------------------------------\u001b[0m",
      "\u001b[1;31mAttributeError\u001b[0m                            Traceback (most recent call last)",
      "Cell \u001b[1;32mIn[17], line 2\u001b[0m\n\u001b[0;32m      1\u001b[0m hosts \u001b[38;5;241m=\u001b[39m df\u001b[38;5;241m.\u001b[39mgroupby(\u001b[38;5;124m'\u001b[39m\u001b[38;5;124mhost name\u001b[39m\u001b[38;5;124m'\u001b[39m)[\u001b[38;5;124m'\u001b[39m\u001b[38;5;124mcalculated host listings count\u001b[39m\u001b[38;5;124m'\u001b[39m]\u001b[38;5;241m.\u001b[39msum()\u001b[38;5;241m.\u001b[39msort_values(ascending\u001b[38;5;241m=\u001b[39m\u001b[38;5;28;01mFalse\u001b[39;00m)\u001b[38;5;241m.\u001b[39mnlargest(\u001b[38;5;241m10\u001b[39m)\u001b[38;5;241m.\u001b[39mto_frame();\n\u001b[1;32m----> 2\u001b[0m hosts_bar \u001b[38;5;241m=\u001b[39m \u001b[43mplt\u001b[49m\u001b[38;5;241;43m.\u001b[39;49m\u001b[43mbar\u001b[49m\u001b[43m(\u001b[49m\u001b[43mhosts\u001b[49m\u001b[38;5;241;43m.\u001b[39;49m\u001b[43mindex\u001b[49m\u001b[43m,\u001b[49m\u001b[43mhosts\u001b[49m\u001b[38;5;241;43m.\u001b[39;49m\u001b[43mloc\u001b[49m\u001b[43m[\u001b[49m\u001b[43m:\u001b[49m\u001b[43m,\u001b[49m\u001b[38;5;124;43m'\u001b[39;49m\u001b[38;5;124;43mcalculated host listings count\u001b[39;49m\u001b[38;5;124;43m'\u001b[39;49m\u001b[43m]\u001b[49m\u001b[43m,\u001b[49m\u001b[43mpalette\u001b[49m\u001b[38;5;241;43m=\u001b[39;49m\u001b[38;5;124;43m'\u001b[39;49m\u001b[38;5;124;43mmako\u001b[39;49m\u001b[38;5;124;43m'\u001b[39;49m\u001b[43m)\u001b[49m;\n\u001b[0;32m      3\u001b[0m plt\u001b[38;5;241m.\u001b[39mbar_label(hosts_bar,label \u001b[38;5;241m=\u001b[39mhosts\u001b[38;5;241m.\u001b[39mloc[:,\u001b[38;5;124m'\u001b[39m\u001b[38;5;124mcalculated host listings count\u001b[39m\u001b[38;5;124m'\u001b[39m],label_type\u001b[38;5;241m=\u001b[39m \u001b[38;5;124m'\u001b[39m\u001b[38;5;124medge\u001b[39m\u001b[38;5;124m'\u001b[39m,padding\u001b[38;5;241m=\u001b[39m\u001b[38;5;241m3\u001b[39m)\n\u001b[0;32m      4\u001b[0m plt\u001b[38;5;241m.\u001b[39mxlabel(\u001b[38;5;124m'\u001b[39m\u001b[38;5;124mHosts Name\u001b[39m\u001b[38;5;124m'\u001b[39m);\n",
      "File \u001b[1;32m~\\AppData\\Local\\Packages\\PythonSoftwareFoundation.Python.3.10_qbz5n2kfra8p0\\LocalCache\\local-packages\\Python310\\site-packages\\matplotlib\\pyplot.py:2981\u001b[0m, in \u001b[0;36mbar\u001b[1;34m(x, height, width, bottom, align, data, **kwargs)\u001b[0m\n\u001b[0;32m   2970\u001b[0m \u001b[38;5;129m@_copy_docstring_and_deprecators\u001b[39m(Axes\u001b[38;5;241m.\u001b[39mbar)\n\u001b[0;32m   2971\u001b[0m \u001b[38;5;28;01mdef\u001b[39;00m\u001b[38;5;250m \u001b[39m\u001b[38;5;21mbar\u001b[39m(\n\u001b[0;32m   2972\u001b[0m     x: \u001b[38;5;28mfloat\u001b[39m \u001b[38;5;241m|\u001b[39m ArrayLike,\n\u001b[1;32m   (...)\u001b[0m\n\u001b[0;32m   2979\u001b[0m     \u001b[38;5;241m*\u001b[39m\u001b[38;5;241m*\u001b[39mkwargs,\n\u001b[0;32m   2980\u001b[0m ) \u001b[38;5;241m-\u001b[39m\u001b[38;5;241m>\u001b[39m BarContainer:\n\u001b[1;32m-> 2981\u001b[0m     \u001b[38;5;28;01mreturn\u001b[39;00m gca()\u001b[38;5;241m.\u001b[39mbar(\n\u001b[0;32m   2982\u001b[0m         x,\n\u001b[0;32m   2983\u001b[0m         height,\n\u001b[0;32m   2984\u001b[0m         width\u001b[38;5;241m=\u001b[39mwidth,\n\u001b[0;32m   2985\u001b[0m         bottom\u001b[38;5;241m=\u001b[39mbottom,\n\u001b[0;32m   2986\u001b[0m         align\u001b[38;5;241m=\u001b[39malign,\n\u001b[0;32m   2987\u001b[0m         \u001b[38;5;241m*\u001b[39m\u001b[38;5;241m*\u001b[39m({\u001b[38;5;124m\"\u001b[39m\u001b[38;5;124mdata\u001b[39m\u001b[38;5;124m\"\u001b[39m: data} \u001b[38;5;28;01mif\u001b[39;00m data \u001b[38;5;129;01mis\u001b[39;00m \u001b[38;5;129;01mnot\u001b[39;00m \u001b[38;5;28;01mNone\u001b[39;00m \u001b[38;5;28;01melse\u001b[39;00m {}),\n\u001b[0;32m   2988\u001b[0m         \u001b[38;5;241m*\u001b[39m\u001b[38;5;241m*\u001b[39mkwargs,\n\u001b[0;32m   2989\u001b[0m     )\n",
      "File \u001b[1;32m~\\AppData\\Local\\Packages\\PythonSoftwareFoundation.Python.3.10_qbz5n2kfra8p0\\LocalCache\\local-packages\\Python310\\site-packages\\matplotlib\\__init__.py:1521\u001b[0m, in \u001b[0;36m_preprocess_data.<locals>.inner\u001b[1;34m(ax, data, *args, **kwargs)\u001b[0m\n\u001b[0;32m   1518\u001b[0m \u001b[38;5;129m@functools\u001b[39m\u001b[38;5;241m.\u001b[39mwraps(func)\n\u001b[0;32m   1519\u001b[0m \u001b[38;5;28;01mdef\u001b[39;00m\u001b[38;5;250m \u001b[39m\u001b[38;5;21minner\u001b[39m(ax, \u001b[38;5;241m*\u001b[39margs, data\u001b[38;5;241m=\u001b[39m\u001b[38;5;28;01mNone\u001b[39;00m, \u001b[38;5;241m*\u001b[39m\u001b[38;5;241m*\u001b[39mkwargs):\n\u001b[0;32m   1520\u001b[0m     \u001b[38;5;28;01mif\u001b[39;00m data \u001b[38;5;129;01mis\u001b[39;00m \u001b[38;5;28;01mNone\u001b[39;00m:\n\u001b[1;32m-> 1521\u001b[0m         \u001b[38;5;28;01mreturn\u001b[39;00m func(\n\u001b[0;32m   1522\u001b[0m             ax,\n\u001b[0;32m   1523\u001b[0m             \u001b[38;5;241m*\u001b[39m\u001b[38;5;28mmap\u001b[39m(cbook\u001b[38;5;241m.\u001b[39msanitize_sequence, args),\n\u001b[0;32m   1524\u001b[0m             \u001b[38;5;241m*\u001b[39m\u001b[38;5;241m*\u001b[39m{k: cbook\u001b[38;5;241m.\u001b[39msanitize_sequence(v) \u001b[38;5;28;01mfor\u001b[39;00m k, v \u001b[38;5;129;01min\u001b[39;00m kwargs\u001b[38;5;241m.\u001b[39mitems()})\n\u001b[0;32m   1526\u001b[0m     bound \u001b[38;5;241m=\u001b[39m new_sig\u001b[38;5;241m.\u001b[39mbind(ax, \u001b[38;5;241m*\u001b[39margs, \u001b[38;5;241m*\u001b[39m\u001b[38;5;241m*\u001b[39mkwargs)\n\u001b[0;32m   1527\u001b[0m     auto_label \u001b[38;5;241m=\u001b[39m (bound\u001b[38;5;241m.\u001b[39marguments\u001b[38;5;241m.\u001b[39mget(label_namer)\n\u001b[0;32m   1528\u001b[0m                   \u001b[38;5;129;01mor\u001b[39;00m bound\u001b[38;5;241m.\u001b[39mkwargs\u001b[38;5;241m.\u001b[39mget(label_namer))\n",
      "File \u001b[1;32m~\\AppData\\Local\\Packages\\PythonSoftwareFoundation.Python.3.10_qbz5n2kfra8p0\\LocalCache\\local-packages\\Python310\\site-packages\\matplotlib\\axes\\_axes.py:2643\u001b[0m, in \u001b[0;36mAxes.bar\u001b[1;34m(self, x, height, width, bottom, align, **kwargs)\u001b[0m\n\u001b[0;32m   2634\u001b[0m \u001b[38;5;28;01mfor\u001b[39;00m l, b, w, h, c, e, lw, htch, lbl \u001b[38;5;129;01min\u001b[39;00m args:\n\u001b[0;32m   2635\u001b[0m     r \u001b[38;5;241m=\u001b[39m mpatches\u001b[38;5;241m.\u001b[39mRectangle(\n\u001b[0;32m   2636\u001b[0m         xy\u001b[38;5;241m=\u001b[39m(l, b), width\u001b[38;5;241m=\u001b[39mw, height\u001b[38;5;241m=\u001b[39mh,\n\u001b[0;32m   2637\u001b[0m         facecolor\u001b[38;5;241m=\u001b[39mc,\n\u001b[1;32m   (...)\u001b[0m\n\u001b[0;32m   2641\u001b[0m         hatch\u001b[38;5;241m=\u001b[39mhtch,\n\u001b[0;32m   2642\u001b[0m         )\n\u001b[1;32m-> 2643\u001b[0m     \u001b[43mr\u001b[49m\u001b[38;5;241;43m.\u001b[39;49m\u001b[43m_internal_update\u001b[49m\u001b[43m(\u001b[49m\u001b[43mkwargs\u001b[49m\u001b[43m)\u001b[49m\n\u001b[0;32m   2644\u001b[0m     r\u001b[38;5;241m.\u001b[39mget_path()\u001b[38;5;241m.\u001b[39m_interpolation_steps \u001b[38;5;241m=\u001b[39m \u001b[38;5;241m100\u001b[39m\n\u001b[0;32m   2645\u001b[0m     \u001b[38;5;28;01mif\u001b[39;00m orientation \u001b[38;5;241m==\u001b[39m \u001b[38;5;124m'\u001b[39m\u001b[38;5;124mvertical\u001b[39m\u001b[38;5;124m'\u001b[39m:\n",
      "File \u001b[1;32m~\\AppData\\Local\\Packages\\PythonSoftwareFoundation.Python.3.10_qbz5n2kfra8p0\\LocalCache\\local-packages\\Python310\\site-packages\\matplotlib\\artist.py:1233\u001b[0m, in \u001b[0;36mArtist._internal_update\u001b[1;34m(self, kwargs)\u001b[0m\n\u001b[0;32m   1226\u001b[0m \u001b[38;5;28;01mdef\u001b[39;00m\u001b[38;5;250m \u001b[39m\u001b[38;5;21m_internal_update\u001b[39m(\u001b[38;5;28mself\u001b[39m, kwargs):\n\u001b[0;32m   1227\u001b[0m \u001b[38;5;250m    \u001b[39m\u001b[38;5;124;03m\"\"\"\u001b[39;00m\n\u001b[0;32m   1228\u001b[0m \u001b[38;5;124;03m    Update artist properties without prenormalizing them, but generating\u001b[39;00m\n\u001b[0;32m   1229\u001b[0m \u001b[38;5;124;03m    errors as if calling `set`.\u001b[39;00m\n\u001b[0;32m   1230\u001b[0m \n\u001b[0;32m   1231\u001b[0m \u001b[38;5;124;03m    The lack of prenormalization is to maintain backcompatibility.\u001b[39;00m\n\u001b[0;32m   1232\u001b[0m \u001b[38;5;124;03m    \"\"\"\u001b[39;00m\n\u001b[1;32m-> 1233\u001b[0m     \u001b[38;5;28;01mreturn\u001b[39;00m \u001b[38;5;28;43mself\u001b[39;49m\u001b[38;5;241;43m.\u001b[39;49m\u001b[43m_update_props\u001b[49m\u001b[43m(\u001b[49m\n\u001b[0;32m   1234\u001b[0m \u001b[43m        \u001b[49m\u001b[43mkwargs\u001b[49m\u001b[43m,\u001b[49m\u001b[43m \u001b[49m\u001b[38;5;124;43m\"\u001b[39;49m\u001b[38;5;132;43;01m{cls.__name__}\u001b[39;49;00m\u001b[38;5;124;43m.set() got an unexpected keyword argument \u001b[39;49m\u001b[38;5;124;43m\"\u001b[39;49m\n\u001b[0;32m   1235\u001b[0m \u001b[43m        \u001b[49m\u001b[38;5;124;43m\"\u001b[39;49m\u001b[38;5;132;43;01m{prop_name!r}\u001b[39;49;00m\u001b[38;5;124;43m\"\u001b[39;49m\u001b[43m)\u001b[49m\n",
      "File \u001b[1;32m~\\AppData\\Local\\Packages\\PythonSoftwareFoundation.Python.3.10_qbz5n2kfra8p0\\LocalCache\\local-packages\\Python310\\site-packages\\matplotlib\\artist.py:1206\u001b[0m, in \u001b[0;36mArtist._update_props\u001b[1;34m(self, props, errfmt)\u001b[0m\n\u001b[0;32m   1204\u001b[0m             func \u001b[38;5;241m=\u001b[39m \u001b[38;5;28mgetattr\u001b[39m(\u001b[38;5;28mself\u001b[39m, \u001b[38;5;124mf\u001b[39m\u001b[38;5;124m\"\u001b[39m\u001b[38;5;124mset_\u001b[39m\u001b[38;5;132;01m{\u001b[39;00mk\u001b[38;5;132;01m}\u001b[39;00m\u001b[38;5;124m\"\u001b[39m, \u001b[38;5;28;01mNone\u001b[39;00m)\n\u001b[0;32m   1205\u001b[0m             \u001b[38;5;28;01mif\u001b[39;00m \u001b[38;5;129;01mnot\u001b[39;00m \u001b[38;5;28mcallable\u001b[39m(func):\n\u001b[1;32m-> 1206\u001b[0m                 \u001b[38;5;28;01mraise\u001b[39;00m \u001b[38;5;167;01mAttributeError\u001b[39;00m(\n\u001b[0;32m   1207\u001b[0m                     errfmt\u001b[38;5;241m.\u001b[39mformat(\u001b[38;5;28mcls\u001b[39m\u001b[38;5;241m=\u001b[39m\u001b[38;5;28mtype\u001b[39m(\u001b[38;5;28mself\u001b[39m), prop_name\u001b[38;5;241m=\u001b[39mk),\n\u001b[0;32m   1208\u001b[0m                     name\u001b[38;5;241m=\u001b[39mk)\n\u001b[0;32m   1209\u001b[0m             ret\u001b[38;5;241m.\u001b[39mappend(func(v))\n\u001b[0;32m   1210\u001b[0m \u001b[38;5;28;01mif\u001b[39;00m ret:\n",
      "\u001b[1;31mAttributeError\u001b[0m: Rectangle.set() got an unexpected keyword argument 'palette'"
     ]
    },
    {
     "data": {
      "image/png": "[encoded data removed]",
      "text/plain": [
       "<Figure size 640x480 with 1 Axes>"
      ]
     },
     "metadata": {},
     "output_type": "display_data"
    }
   ],
   "source": [
    "hosts = df.groupby('host name')['calculated host listings count'].sum().sort_values(ascending=False).nlargest(10).to_frame();\n",
    "hosts_bar = plt.bar(hosts.index,hosts.loc[:,'calculated host listings count']);\n",
    "plt.bar_label(hosts_bar,label =hosts.loc[:,'calculated host listings count'],label_type= 'edge',padding=3)\n",
    "plt.xlabel('Hosts Name');\n",
    "plt.ylabel('Calculated Host Listings Counts');\n",
    "plt.xticks(rotation=80);\n",
    "plt.ylim([0,120000]);\n",
    "plt.title('Top 10 hosts by calculated host Listings Count')\n",
    "\n",
    "\n"
   ]
  },
  {
   "cell_type": "markdown",
   "id": "2bce9c7d",
   "metadata": {},
   "source": [
    "Are hosts with verified identities more likely to receive positive reviews?"
   ]
  },
  {
   "cell_type": "code",
   "execution_count": null,
   "id": "35598bc0",
   "metadata": {},
   "outputs": [],
   "source": [
    "review = df.groupby('host_identity_verified')['review rate number'].mean().sort_values(ascending= False).to_frame();\n",
    "review"
   ]
  },
  {
   "cell_type": "code",
   "execution_count": null,
   "id": "15184543",
   "metadata": {},
   "outputs": [],
   "source": [
    "review_bar = plt.bar(review.index,review.loc[:,'review rate number']);\n",
    "plt.bar_label(review_bar,labels = round(review.loc[:,'review rate number'],2),padding=4);\n",
    "plt.ylim([0,4]);\n",
    "plt.xlabel('Host Verification Status');\n",
    "plt.ylabel(\"Average Review Rate Number\");\n",
    "plt.title(\"Average Review Rate for each Verification Statistics.\");"
   ]
  },
  {
   "cell_type": "code",
   "execution_count": null,
   "id": "bd0e9b32",
   "metadata": {},
   "outputs": [],
   "source": [
    "base_color= sns.color_palette()[0]\n",
    "sns.boxplot(data=df,x='host_identity_verified',y='review rate number',color=base_color);\n",
    "plt.xlabel('Host Verification Status');\n",
    "plt.ylabel('Review Rate Number');\n",
    "plt.title(\"Average Review Rate for each Verification Status \");\n"
   ]
  },
  {
   "cell_type": "markdown",
   "id": "881ec627",
   "metadata": {},
   "source": [
    "Is there a correlation between the price of a listing and its service fee?"
   ]
  },
  {
   "cell_type": "code",
   "execution_count": null,
   "id": "df3373bc",
   "metadata": {},
   "outputs": [],
   "source": [
    "df['price_$'].corr(df['service_fee_$'])"
   ]
  },
  {
   "cell_type": "markdown",
   "id": "9b6606b7",
   "metadata": {},
   "source": [
    "0.99 means the positive correlation between price and service fees"
   ]
  },
  {
   "cell_type": "code",
   "execution_count": null,
   "id": "3fbac3f9",
   "metadata": {},
   "outputs": [],
   "source": [
    "sns.regplot(df,x='price_$',y ='service_fee_$');\n",
    "plt.xlabel('Price ($)');\n",
    "plt.ylabel('Service Fee ($)');\n",
    "plt.title('A Regression Plot showing the Correlation of the Price of a Listing and its Service Fee. ')"
   ]
  },
  {
   "cell_type": "markdown",
   "id": "1031bdf8",
   "metadata": {},
   "source": [
    "What is the average review rate number(eg., stars) for listings, and does it vary based on the neighbourhood group and room type ?"
   ]
  },
  {
   "cell_type": "code",
   "execution_count": null,
   "id": "836f29ce",
   "metadata": {},
   "outputs": [],
   "source": [
    "ARRN = df.groupby(['neighbourhood group','room type'])['review rate number'].mean().to_frame()\n",
    "ARRN"
   ]
  },
  {
   "cell_type": "code",
   "execution_count": null,
   "id": "24ad9a1d",
   "metadata": {},
   "outputs": [],
   "source": [
    "plt.figure(figsize=[12,10]);\n",
    "sns.barplot(data=df,x='neighbourhood group',y='review rate number',hue='room type');\n",
    "plt.xlabel('Neighbourhood Group');\n",
    "plt.ylabel('Average Review Rate');\n",
    "plt.title('Average Review Rate for each Room/Property Type in each Neighbourhood Group. ');\n"
   ]
  },
  {
   "cell_type": "markdown",
   "id": "20ab9f71",
   "metadata": {},
   "source": [
    "Are hosts with a higher calculated host listings count more likely to maintain higher availability throughout the year?"
   ]
  },
  {
   "cell_type": "code",
   "execution_count": null,
   "id": "a1558a34",
   "metadata": {},
   "outputs": [],
   "source": [
    "sns.regplot(df,x='calculated host listings count',y='availability 365');\n",
    "plt.xlabel(\"Calculated Host Listings\");\n",
    "plt.ylabel(\"Availability 365\");\n",
    "plt.title('A Regression Plot of the Relationship between Calculated Host Listings Count and Availability 365');"
   ]
  },
  {
   "cell_type": "code",
   "execution_count": null,
   "id": "7f37d826",
   "metadata": {},
   "outputs": [],
   "source": [
    "df['calculated host listings count'].corr(df['availability 365'])"
   ]
  },
  {
   "cell_type": "markdown",
   "id": "2738e7bb",
   "metadata": {},
   "source": [
    "Pearson correlation coefficient for the association between host listings and availability 365 is 0.136,indicating a weak positive correlation between the 2 variables."
   ]
  },
  {
   "cell_type": "code",
   "execution_count": null,
   "id": "db26aa99",
   "metadata": {},
   "outputs": [],
   "source": []
  }
 ],
 "metadata": {
  "kernelspec": {
   "display_name": "Python 3",
   "language": "python",
   "name": "python3"
  },
  "language_info": {
   "codemirror_mode": {
    "name": "ipython",
    "version": 3
   },
   "file_extension": ".py",
   "mimetype": "text/x-python",
   "name": "python",
   "nbconvert_exporter": "python",
   "pygments_lexer": "ipython3",
   "version": "3.10.11"
  }
 },
 "nbformat": 4,
 "nbformat_minor": 5
}
